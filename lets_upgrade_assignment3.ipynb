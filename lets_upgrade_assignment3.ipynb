{
  "nbformat": 4,
  "nbformat_minor": 0,
  "metadata": {
    "colab": {
      "name": "lets_upgrade_assignment3",
      "provenance": [],
      "collapsed_sections": []
    },
    "kernelspec": {
      "name": "python3",
      "display_name": "Python 3"
    }
  },
  "cells": [
    {
      "cell_type": "markdown",
      "metadata": {
        "id": "e_aL6Gds3c9X"
      },
      "source": [
        "# **ASSIGNMENT 3**"
      ]
    },
    {
      "cell_type": "markdown",
      "metadata": {
        "id": "X738F31A3W4G"
      },
      "source": [
        "**Question 1**"
      ]
    },
    {
      "cell_type": "code",
      "metadata": {
        "id": "mHxK0eB53Ft2",
        "outputId": "350ac245-0a35-4e1b-c8c3-d6e6ccc063dc",
        "colab": {
          "base_uri": "https://localhost:8080/"
        }
      },
      "source": [
        "import numpy as np\n",
        "np.arange(2,50,3)"
      ],
      "execution_count": 3,
      "outputs": [
        {
          "output_type": "execute_result",
          "data": {
            "text/plain": [
              "array([ 2,  5,  8, 11, 14, 17, 20, 23, 26, 29, 32, 35, 38, 41, 44, 47])"
            ]
          },
          "metadata": {
            "tags": []
          },
          "execution_count": 3
        }
      ]
    },
    {
      "cell_type": "markdown",
      "metadata": {
        "id": "TbGuV8qF3iBO"
      },
      "source": [
        "**Question 2**"
      ]
    },
    {
      "cell_type": "code",
      "metadata": {
        "id": "w_DBtq543hc1",
        "outputId": "0ab3e742-984b-482e-9aa4-94f102fa4457",
        "colab": {
          "base_uri": "https://localhost:8080/"
        }
      },
      "source": [
        "lst1=[]\n",
        "lst2=[]\n",
        "print(\"List 1\")\n",
        "for i in range(0,5):\n",
        "  l=int(input())\n",
        "  lst1.append(l)\n",
        "print(\"List 2\")\n",
        "for i in range(0,5):\n",
        "  m=int(input())\n",
        "  lst2.append(m)  \n",
        "\n",
        "print(\"Lists\")\n",
        "print(lst1)\n",
        "print(lst2)\n",
        "a=np.array(lst1)   # list to array\n",
        "b=np.array(lst2)\n",
        "print(\"Numpy Arrays\")\n",
        "print(a)\n",
        "print(b)\n",
        "print(\"Concatenated array\")\n",
        "x=np.concatenate((a,b))\n",
        "print(x)\n",
        "print(\"Sorted Array\",np.sort(x))\n"
      ],
      "execution_count": null,
      "outputs": [
        {
          "output_type": "stream",
          "text": [
            "List 1\n",
            "6\n",
            "5\n",
            "7\n",
            "4\n",
            "3\n",
            "List 2\n",
            "8\n",
            "9\n",
            "1\n",
            "2\n",
            "10\n",
            "Lists\n",
            "[6, 5, 7, 4, 3]\n",
            "[8, 9, 1, 2, 10]\n",
            "Numpy Arrays\n",
            "[6 5 7 4 3]\n",
            "[ 8  9  1  2 10]\n",
            "Concatenated array\n",
            "[ 6  5  7  4  3  8  9  1  2 10]\n",
            "Sorted Array [ 1  2  3  4  5  6  7  8  9 10]\n"
          ],
          "name": "stdout"
        }
      ]
    },
    {
      "cell_type": "markdown",
      "metadata": {
        "id": "34HAYVMICzrW"
      },
      "source": [
        "**Question 3**"
      ]
    },
    {
      "cell_type": "code",
      "metadata": {
        "id": "gvKwXrqYCy-_",
        "outputId": "4f8f4d87-d5b2-46df-ed12-7f68cefdc289",
        "colab": {
          "base_uri": "https://localhost:8080/"
        }
      },
      "source": [
        "arr=np.array([[1,2,3],[4,5,6],[7,8,9]])\n",
        "print(\"type of array:\",arr.dtype)\n",
        "print(\"Size of array:\",arr.size) \n",
        "print(\"Shape:\",arr.shape) #Shape of array\n",
        "print(\"Dimensions:\",arr.ndim) # array dimension"
      ],
      "execution_count": null,
      "outputs": [
        {
          "output_type": "stream",
          "text": [
            "type of array: int64\n",
            "Size of array: 9\n",
            "Shape: (3, 3)\n",
            "Dimensions: 2\n"
          ],
          "name": "stdout"
        }
      ]
    },
    {
      "cell_type": "markdown",
      "metadata": {
        "id": "gnm3rNiJEZNg"
      },
      "source": [
        "**Question 4**"
      ]
    },
    {
      "cell_type": "markdown",
      "metadata": {
        "id": "tdYUV_Gybz83"
      },
      "source": [
        "1-d array can be converted to 2-d array using np.newaxis or np.expand_dims. They basically add an axis to the array. If np.newaxis is used once then one dimension is increased i.e 1D to 2D, 2D to 3D. "
      ]
    },
    {
      "cell_type": "code",
      "metadata": {
        "id": "ALgudFppEbXN",
        "outputId": "cf2a7112-d66e-4564-ca86-e7de472e5265",
        "colab": {
          "base_uri": "https://localhost:8080/"
        }
      },
      "source": [
        "a=np.arange(6)\n",
        "print(a)\n",
        "print(\"dimension of a:\",a.ndim)\n",
        "print(\"Shape of a:\",a.shape)\n",
        "#using new-axis\n",
        "a1= a[np.newaxis,:]\n",
        "print(\"Shape of a1:\",a1.shape)\n",
        "print(\"dimension of a1:\",a1.ndim)"
      ],
      "execution_count": null,
      "outputs": [
        {
          "output_type": "stream",
          "text": [
            "[0 1 2 3 4 5]\n",
            "dimension of a: 1\n",
            "Shape of a: (6,)\n",
            "Shape of a1: (1, 6)\n",
            "dimension of a1: 2\n"
          ],
          "name": "stdout"
        }
      ]
    },
    {
      "cell_type": "code",
      "metadata": {
        "id": "Mq-0WxcRbYc-",
        "outputId": "33dbd8a9-39a4-4226-d148-492354d461ee",
        "colab": {
          "base_uri": "https://localhost:8080/"
        }
      },
      "source": [
        "a=np.arange(6)\n",
        "print(a)\n",
        "print(\"dimension of a:\",a.ndim)\n",
        "print(\"Shape of a:\",a.shape)\n",
        "#using expand dims\n",
        "a1= np.expand_dims(a,axis=0)\n",
        "print(\"Shape of a1:\",a1.shape)\n",
        "print(\"dimension of a1:\",a1.ndim)"
      ],
      "execution_count": null,
      "outputs": [
        {
          "output_type": "stream",
          "text": [
            "[0 1 2 3 4 5]\n",
            "dimension of a: 1\n",
            "Shape of a: (6,)\n",
            "Shape of a1: (1, 6)\n",
            "dimension of a1: 2\n"
          ],
          "name": "stdout"
        }
      ]
    },
    {
      "cell_type": "markdown",
      "metadata": {
        "id": "W5ia_dGtcRtV"
      },
      "source": [
        "**Question 5**"
      ]
    },
    {
      "cell_type": "code",
      "metadata": {
        "id": "q7WuF1f2cV8X",
        "outputId": "197c82d9-a251-492e-97ae-062265e5222d",
        "colab": {
          "base_uri": "https://localhost:8080/"
        }
      },
      "source": [
        "a1=np.array([[1,2],[3,4]])\n",
        "a2=np.array([[5,6],[7,8]])\n",
        "print(\"Vertical\",np.vstack((a1,a2))) \n",
        "print(\"Horizontal\",np.hstack((a1,a2)))"
      ],
      "execution_count": 5,
      "outputs": [
        {
          "output_type": "stream",
          "text": [
            "Vertical [[1 2]\n",
            " [3 4]\n",
            " [5 6]\n",
            " [7 8]]\n",
            "Horizontal [[1 2 5 6]\n",
            " [3 4 7 8]]\n"
          ],
          "name": "stdout"
        }
      ]
    },
    {
      "cell_type": "markdown",
      "metadata": {
        "id": "Qo4bGWSHWNaO"
      },
      "source": [
        "**Question 6**"
      ]
    },
    {
      "cell_type": "markdown",
      "metadata": {
        "id": "jPWqzE0nWhWl"
      },
      "source": [
        "Unique value can be found using np.unique().The unique function contains one arguement **return_counts** which is set to True. It will return all the unique values from the array."
      ]
    },
    {
      "cell_type": "code",
      "metadata": {
        "id": "WuLY6t5XWQTT",
        "outputId": "923e9bfa-20f7-4717-8a6f-65d6e24a44ea",
        "colab": {
          "base_uri": "https://localhost:8080/"
        }
      },
      "source": [
        "a = np.array([1, 1, 2, 3, 4, 4, 1])\n",
        "b = np.unique(a, return_counts=True)\n",
        "print(b)"
      ],
      "execution_count": 7,
      "outputs": [
        {
          "output_type": "stream",
          "text": [
            "(array([1, 2, 3, 4]), array([3, 1, 1, 2]))\n"
          ],
          "name": "stdout"
        }
      ]
    }
  ]
}